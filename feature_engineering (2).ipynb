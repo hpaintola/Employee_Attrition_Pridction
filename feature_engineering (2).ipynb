{
 "cells": [
  {
   "cell_type": "code",
   "execution_count": 0,
   "metadata": {
    "application/vnd.databricks.v1+cell": {
     "cellMetadata": {
      "byteLimit": 2048000,
      "rowLimit": 10000
     },
     "inputWidgets": {},
     "nuid": "da181627-20db-4bfd-9484-ea80c1cbf43a",
     "showTitle": false,
     "tableResultSettingsMap": {},
     "title": ""
    }
   },
   "outputs": [
    {
     "output_type": "stream",
     "name": "stdout",
     "output_type": "stream",
     "text": [
      "+-----------+----+------+----------------+----------+--------------+-----------------+----------------+------------------+--------------------+--------+------------------+-----------------+--------------+--------------------+---------+------------+--------------+-----------+------------------------+------------------------+------------------+--------------------+---------+\n|Employee ID| Age|Gender|Years at Company|  Job Role|Monthly Income|Work-Life Balance|Job Satisfaction|Performance Rating|Number of Promotions|Overtime|Distance from Home|  Education Level|Marital Status|Number of Dependents|Job Level|Company Size|Company Tenure|Remote Work|Leadership Opportunities|Innovation Opportunities|Company Reputation|Employee Recognition|Attrition|\n+-----------+----+------+----------------+----------+--------------+-----------------+----------------+------------------+--------------------+--------+------------------+-----------------+--------------+--------------------+---------+------------+--------------+-----------+------------------------+------------------------+------------------+--------------------+---------+\n|      49462|56.0|  Male|            24.0|Healthcare|          8963|        Excellent|            High|           Average|                 1.0|      No|              43.0|Bachelor’s Degree|       Married|                 0.0|      Mid|      Medium|          81.0|         No|                      No|                      No|              Good|                High|   Stayed|\n+-----------+----+------+----------------+----------+--------------+-----------------+----------------+------------------+--------------------+--------+------------------+-----------------+--------------+--------------------+---------+------------+--------------+-----------+------------------------+------------------------+------------------+--------------------+---------+\nonly showing top 1 row\n\n"
     ]
    }
   ],
   "source": [
    "parquet_file_path = \"/FileStore/tables/silver_emp_df.parquet\"\n",
    "\n",
    "silver_emp_df = spark.read.format(\"parquet\").load(parquet_file_path)\n",
    "df = silver_emp_df\n",
    "silver_emp_df.show(1)"
   ]
  },
  {
   "cell_type": "code",
   "execution_count": 0,
   "metadata": {
    "application/vnd.databricks.v1+cell": {
     "cellMetadata": {
      "byteLimit": 2048000,
      "rowLimit": 10000
     },
     "inputWidgets": {},
     "nuid": "0cc1c653-bdbd-4b79-96f4-a04df2396113",
     "showTitle": false,
     "tableResultSettingsMap": {},
     "title": ""
    }
   },
   "outputs": [],
   "source": [
    "# Feature Engineering for modeling training \n",
    "\n",
    "# columns which requires  ordinal encoding \n",
    "ordinal_encoding_cols = [\"Work-Life Balance\", \"Job Satisfaction\", \"Performance Rating\", \"Education Level\",'Job Level', \"Company Size\", \"Company Reputation\",\"Employee Recognition\"]\n",
    "\n",
    "# columns which requires nominal encoding\n",
    "nominal_encoding_cols = [\"Gender\", \"Job Role\", \"Overtime\", \"Marital Status\",\"Remote Work\", 'Leadership Opportunities',\"Innovation Opportunities\" ]\n",
    "\n"
   ]
  },
  {
   "cell_type": "code",
   "execution_count": 0,
   "metadata": {
    "application/vnd.databricks.v1+cell": {
     "cellMetadata": {
      "byteLimit": 2048000,
      "rowLimit": 10000
     },
     "inputWidgets": {},
     "nuid": "c5557031-63d6-40c2-badd-3761d5c85616",
     "showTitle": false,
     "tableResultSettingsMap": {},
     "title": ""
    }
   },
   "outputs": [],
   "source": [
    "# Select only numeric columns\n",
    "numeric_cols = [col for col, dtype in df.dtypes if dtype in ['int', 'double']]"
   ]
  },
  {
   "cell_type": "code",
   "execution_count": 0,
   "metadata": {
    "application/vnd.databricks.v1+cell": {
     "cellMetadata": {
      "byteLimit": 2048000,
      "rowLimit": 10000
     },
     "inputWidgets": {},
     "nuid": "9a00e791-f39f-401c-9360-3bcbb0a80349",
     "showTitle": false,
     "tableResultSettingsMap": {},
     "title": ""
    }
   },
   "outputs": [],
   "source": [
    "# spliting data for training the model \n",
    "\n",
    "train, test = df.randomSplit([0.7, 0.3])"
   ]
  },
  {
   "cell_type": "code",
   "execution_count": 0,
   "metadata": {
    "application/vnd.databricks.v1+cell": {
     "cellMetadata": {
      "byteLimit": 2048000,
      "rowLimit": 10000
     },
     "inputWidgets": {},
     "nuid": "a976d988-2011-492e-b0a1-1368690dfc26",
     "showTitle": false,
     "tableResultSettingsMap": {},
     "title": ""
    }
   },
   "outputs": [
    {
     "output_type": "stream",
     "name": "stdout",
     "output_type": "stream",
     "text": [
      "Out[6]: ['Age',\n 'Years at Company',\n 'Monthly Income',\n 'Number of Promotions',\n 'Distance from Home',\n 'Number of Dependents',\n 'Company Tenure']"
     ]
    }
   ],
   "source": [
    "numeric_cols.remove('Employee ID')\n",
    "numeric_cols"
   ]
  },
  {
   "cell_type": "code",
   "execution_count": 0,
   "metadata": {
    "application/vnd.databricks.v1+cell": {
     "cellMetadata": {
      "byteLimit": 2048000,
      "rowLimit": 10000
     },
     "inputWidgets": {},
     "nuid": "e9180940-3dcb-481c-a91f-e6b0a7164c2d",
     "showTitle": false,
     "tableResultSettingsMap": {},
     "title": ""
    }
   },
   "outputs": [
    {
     "output_type": "stream",
     "name": "stdout",
     "output_type": "stream",
     "text": [
      "+-----------+----+------+----------------+----------+--------------+-----------------+----------------+------------------+--------------------+--------+------------------+---------------+--------------+--------------------+---------+------------+--------------+-----------+------------------------+------------------------+------------------+--------------------+---------+------------------------+\n|Employee ID| Age|Gender|Years at Company|  Job Role|Monthly Income|Work-Life Balance|Job Satisfaction|Performance Rating|Number of Promotions|Overtime|Distance from Home|Education Level|Marital Status|Number of Dependents|Job Level|Company Size|Company Tenure|Remote Work|Leadership Opportunities|Innovation Opportunities|Company Reputation|Employee Recognition|Attrition|numerical_feature_vector|\n+-----------+----+------+----------------+----------+--------------+-----------------+----------------+------------------+--------------------+--------+------------------+---------------+--------------+--------------------+---------+------------+--------------+-----------+------------------------+------------------------+------------------+--------------------+---------+------------------------+\n|          7|36.0|Female|            19.0|Healthcare|          8963|             Good|          Medium|              High|                 2.0|      No|              39.0|Master’s Degree|        Single|                 1.0|      Mid|       Large|          39.0|         No|                      No|                      No|              Good|                 Low|   Stayed|    [36.0,19.0,8963.0...|\n|         33|54.0|  Male|            34.0|     Media|          6170|        Excellent|          Medium|     Below Average|                 1.0|      No|              80.0|    High School|        Single|                 3.0|    Entry|      Medium|          89.0|         No|                      No|                      No|              Good|                 Low|   Stayed|    [54.0,34.0,6170.0...|\n+-----------+----+------+----------------+----------+--------------+-----------------+----------------+------------------+--------------------+--------+------------------+---------------+--------------+--------------------+---------+------------+--------------+-----------+------------------------+------------------------+------------------+--------------------+---------+------------------------+\nonly showing top 2 rows\n\n"
     ]
    }
   ],
   "source": [
    "from pyspark.ml.feature import VectorAssembler\n",
    "\n",
    "numerical_vector_assembler = VectorAssembler(inputCols=numeric_cols,\n",
    "                                             outputCol='numerical_feature_vector')\n",
    "\n",
    "train = numerical_vector_assembler.transform(train)\n",
    "test = numerical_vector_assembler.transform(test)\n",
    "\n",
    "train.show(2)"
   ]
  },
  {
   "cell_type": "code",
   "execution_count": 0,
   "metadata": {
    "application/vnd.databricks.v1+cell": {
     "cellMetadata": {
      "byteLimit": 2048000,
      "rowLimit": 10000
     },
     "inputWidgets": {},
     "nuid": "0e03fe74-5d19-477d-ac5e-539ca7640349",
     "showTitle": false,
     "tableResultSettingsMap": {},
     "title": ""
    }
   },
   "outputs": [
    {
     "output_type": "stream",
     "name": "stdout",
     "output_type": "stream",
     "text": [
      "+-----------+----+------+----------------+----------+--------------+-----------------+----------------+------------------+--------------------+--------+------------------+---------------+--------------+--------------------+---------+------------+--------------+-----------+------------------------+------------------------+------------------+--------------------+---------+------------------------+-------------------------------+\n|Employee ID| Age|Gender|Years at Company|  Job Role|Monthly Income|Work-Life Balance|Job Satisfaction|Performance Rating|Number of Promotions|Overtime|Distance from Home|Education Level|Marital Status|Number of Dependents|Job Level|Company Size|Company Tenure|Remote Work|Leadership Opportunities|Innovation Opportunities|Company Reputation|Employee Recognition|Attrition|numerical_feature_vector|scaled_numerical_feature_vector|\n+-----------+----+------+----------------+----------+--------------+-----------------+----------------+------------------+--------------------+--------+------------------+---------------+--------------+--------------------+---------+------------+--------------+-----------+------------------------+------------------------+------------------+--------------------+---------+------------------------+-------------------------------+\n|          7|36.0|Female|            19.0|Healthcare|          8963|             Good|          Medium|              High|                 2.0|      No|              39.0|Master’s Degree|        Single|                 1.0|      Mid|       Large|          39.0|         No|                      No|                      No|              Good|                 Low|   Stayed|    [36.0,19.0,8963.0...|           [-0.1884082362732...|\n+-----------+----+------+----------------+----------+--------------+-----------------+----------------+------------------+--------------------+--------+------------------+---------------+--------------+--------------------+---------+------------+--------------+-----------+------------------------+------------------------+------------------+--------------------+---------+------------------------+-------------------------------+\nonly showing top 1 row\n\n"
     ]
    }
   ],
   "source": [
    "from pyspark.ml.feature import StandardScaler\n",
    "\n",
    "scaler = StandardScaler(inputCol='numerical_feature_vector',\n",
    "                        outputCol='scaled_numerical_feature_vector',\n",
    "                        withStd=True, withMean=True)\n",
    "\n",
    "scaler = scaler.fit(train)\n",
    "\n",
    "train = scaler.transform(train)\n",
    "test = scaler.transform(test)\n",
    "\n",
    "train.show(1)"
   ]
  },
  {
   "cell_type": "code",
   "execution_count": 0,
   "metadata": {
    "application/vnd.databricks.v1+cell": {
     "cellMetadata": {
      "byteLimit": 2048000,
      "rowLimit": 10000
     },
     "inputWidgets": {},
     "nuid": "9f695032-b50c-45f3-885b-7313161847d4",
     "showTitle": false,
     "tableResultSettingsMap": {},
     "title": ""
    }
   },
   "outputs": [
    {
     "output_type": "stream",
     "name": "stdout",
     "output_type": "stream",
     "text": [
      "+-----------+----+------+----------------+----------+--------------+-----------------+----------------+------------------+--------------------+--------+------------------+---------------+--------------+--------------------+---------+------------+--------------+-----------+------------------------+------------------------+------------------+--------------------+---------+------------------------+-------------------------------+-----------------------+----------------------+------------------------+---------------------+---------------+------------------+------------------------+--------------------------+\n|Employee ID| Age|Gender|Years at Company|  Job Role|Monthly Income|Work-Life Balance|Job Satisfaction|Performance Rating|Number of Promotions|Overtime|Distance from Home|Education Level|Marital Status|Number of Dependents|Job Level|Company Size|Company Tenure|Remote Work|Leadership Opportunities|Innovation Opportunities|Company Reputation|Employee Recognition|Attrition|numerical_feature_vector|scaled_numerical_feature_vector|Work-Life Balance_index|Job Satisfaction_index|Performance Rating_index|Education Level_index|Job Level_index|Company Size_index|Company Reputation_index|Employee Recognition_index|\n+-----------+----+------+----------------+----------+--------------+-----------------+----------------+------------------+--------------------+--------+------------------+---------------+--------------+--------------------+---------+------------+--------------+-----------+------------------------+------------------------+------------------+--------------------+---------+------------------------+-------------------------------+-----------------------+----------------------+------------------------+---------------------+---------------+------------------+------------------------+--------------------------+\n|          7|36.0|Female|            19.0|Healthcare|          8963|             Good|          Medium|              High|                 2.0|      No|              39.0|Master’s Degree|        Single|                 1.0|      Mid|       Large|          39.0|         No|                      No|                      No|              Good|                 Low|   Stayed|    [36.0,19.0,8963.0...|           [-0.1884082362732...|                    0.0|                   2.0|                     1.0|                  2.0|            1.0|               2.0|                     0.0|                       0.0|\n+-----------+----+------+----------------+----------+--------------+-----------------+----------------+------------------+--------------------+--------+------------------+---------------+--------------+--------------------+---------+------------+--------------+-----------+------------------------+------------------------+------------------+--------------------+---------+------------------------+-------------------------------+-----------------------+----------------------+------------------------+---------------------+---------------+------------------+------------------------+--------------------------+\nonly showing top 1 row\n\n"
     ]
    }
   ],
   "source": [
    "from pyspark.ml.feature import StringIndexer\n",
    "\n",
    "# columns which requires  ordinal encoding \n",
    "ordinal_encoding_cols = [\"Work-Life Balance\", \"Job Satisfaction\", \"Performance Rating\", \"Education Level\",'Job Level', \"Company Size\", \"Company Reputation\",\"Employee Recognition\"]\n",
    "ordinal_encoding_cols_index = [\"Work-Life Balance_index\", \"Job Satisfaction_index\", \"Performance Rating_index\", \"Education Level_index\",'Job Level_index', \"Company Size_index\", \"Company Reputation_index\",\"Employee Recognition_index\"]\n",
    "\n",
    "\n",
    "\n",
    "indexer = StringIndexer(inputCols=ordinal_encoding_cols,\n",
    "                        outputCols=ordinal_encoding_cols_index)\n",
    "\n",
    "indexer = indexer.fit(train)\n",
    "train = indexer.transform(train)\n",
    "test = indexer.transform(test)\n",
    "\n",
    "train.show(1)"
   ]
  },
  {
   "cell_type": "code",
   "execution_count": 0,
   "metadata": {
    "application/vnd.databricks.v1+cell": {
     "cellMetadata": {
      "byteLimit": 2048000,
      "rowLimit": 10000
     },
     "inputWidgets": {},
     "nuid": "59370244-b3c3-4445-a45f-f405306221dd",
     "showTitle": false,
     "tableResultSettingsMap": {},
     "title": ""
    }
   },
   "outputs": [
    {
     "output_type": "stream",
     "name": "stdout",
     "output_type": "stream",
     "text": [
      "+------+------------+-------------+\n|Gender|Gender_index|Gender_onehot|\n+------+------------+-------------+\n|Female|         1.0|    (1,[],[])|\n|  Male|         0.0|(1,[0],[1.0])|\n|Female|         1.0|    (1,[],[])|\n+------+------------+-------------+\nonly showing top 3 rows\n\n"
     ]
    }
   ],
   "source": [
    "from pyspark.ml.feature import OneHotEncoder, StringIndexer\n",
    "from pyspark.ml import Pipeline\n",
    "\n",
    "# Columns that require nominal encoding\n",
    "nominal_encoding_cols = [\"Gender\", \"Job Role\", \"Overtime\", \"Marital Status\", \"Remote Work\", \"Leadership Opportunities\", \"Innovation Opportunities\"]\n",
    "\n",
    "\n",
    "# Create StringIndexers for each nominal column\n",
    "indexers = [StringIndexer(inputCol=col, outputCol=col + \"_index\") for col in nominal_encoding_cols]\n",
    "\n",
    "\n",
    "# Create OneHotEncoders for each indexed column\n",
    "one_hot_encoders = [OneHotEncoder(inputCol=col + \"_index\", outputCol=col + \"_onehot\") for col in nominal_encoding_cols]\n",
    "\n",
    "# Combine indexers and one-hot encoders in a single pipeline\n",
    "pipeline = Pipeline(stages=indexers + one_hot_encoders)\n",
    "\n",
    "# Fit the pipeline on the training data\n",
    "pipeline_model = pipeline.fit(train)\n",
    "\n",
    "# Transform both the training and test datasets\n",
    "train = pipeline_model.transform(train)\n",
    "test = pipeline_model.transform(test)\n",
    "\n",
    "# Display the first few rows of the transformed training data\n",
    "train.select(\"Gender\", \"Gender_index\", \"Gender_onehot\").show(3)"
   ]
  },
  {
   "cell_type": "code",
   "execution_count": 0,
   "metadata": {
    "application/vnd.databricks.v1+cell": {
     "cellMetadata": {
      "byteLimit": 2048000,
      "rowLimit": 10000
     },
     "inputWidgets": {},
     "nuid": "fad30fd3-aa82-40c2-823d-f815732e6553",
     "showTitle": false,
     "tableResultSettingsMap": {},
     "title": ""
    }
   },
   "outputs": [
    {
     "output_type": "stream",
     "name": "stdout",
     "output_type": "stream",
     "text": [
      "+---------+---------------+\n|Attrition|Attrition_index|\n+---------+---------------+\n|   Stayed|            0.0|\n|   Stayed|            0.0|\n|   Stayed|            0.0|\n+---------+---------------+\nonly showing top 3 rows\n\n"
     ]
    }
   ],
   "source": [
    "# Index the target column\n",
    "target_indexer = StringIndexer(inputCol=\"Attrition\", outputCol=\"Attrition_index\")\n",
    "train = target_indexer.fit(train).transform(train)\n",
    "test = target_indexer.fit(test).transform(test)\n",
    "\n",
    "# Display the encoded target column\n",
    "train.select(\"Attrition\", \"Attrition_index\").show(3)"
   ]
  },
  {
   "cell_type": "code",
   "execution_count": 0,
   "metadata": {
    "application/vnd.databricks.v1+cell": {
     "cellMetadata": {
      "byteLimit": 2048000,
      "rowLimit": 10000
     },
     "inputWidgets": {},
     "nuid": "9f720b57-2dab-48fe-b667-d157e4d665df",
     "showTitle": false,
     "tableResultSettingsMap": {},
     "title": ""
    }
   },
   "outputs": [],
   "source": [
    "nominal_encoding_cols = [\"Gender\", \"Job Role\", \"Overtime\", \"Marital Status\", \"Remote Work\", \"Leadership Opportunities\", \"Innovation Opportunities\"]\n",
    "ordinal_encoding_cols = [\"Work-Life Balance\", \"Job Satisfaction\", \"Performance Rating\", \"Education Level\",'Job Level', \"Company Size\", \"Company Reputation\",\"Employee Recognition\"]\n",
    "# Drop the original categorical columns\n",
    "train = train.drop(*nominal_encoding_cols)\n",
    "test = test.drop(*nominal_encoding_cols)\n",
    "train = train.drop(*ordinal_encoding_cols)\n",
    "test = test.drop(*ordinal_encoding_cols)"
   ]
  },
  {
   "cell_type": "code",
   "execution_count": 0,
   "metadata": {
    "application/vnd.databricks.v1+cell": {
     "cellMetadata": {
      "byteLimit": 2048000,
      "rowLimit": 10000
     },
     "inputWidgets": {},
     "nuid": "36fb4439-bb7e-4d27-9065-f3b135bb0118",
     "showTitle": false,
     "tableResultSettingsMap": {},
     "title": ""
    }
   },
   "outputs": [
    {
     "output_type": "stream",
     "name": "stdout",
     "output_type": "stream",
     "text": [
      "+-----------------------------------------------------------------------------------------------------------------------------------------------------------------------------------------------------------------------+\n|features                                                                                                                                                                                                               |\n+-----------------------------------------------------------------------------------------------------------------------------------------------------------------------------------------------------------------------+\n|[-0.18840823627322334,0.3214253831457459,0.7805121667929313,1.3482364629590387,-0.3807465138326364,-0.4246079015579666,-0.6532820212350585,0.0,2.0,1.0,2.0,1.0,2.0,0.0,0.0,0.0,0.0,1.0,0.0,0.0,1.0,0.0,1.0,1.0,1.0,1.0]|\n|[1.299403533588313,1.6800714373568721,-0.5131381211985538,0.2256848169165007,1.0474725467227224,0.8692105010248888,1.3233707135439232,2.0,2.0,2.0,3.0,0.0,0.0,0.0,0.0,1.0,0.0,0.0,0.0,1.0,1.0,0.0,1.0,1.0,1.0,1.0]     |\n|(26,[0,1,2,3,4,5,6,7,9,13,14,17,21,23,24],[-1.0149703306407436,-0.7654914602231548,1.0454487814478293,-0.8968668291260373,-1.2167771834260173,-0.4246079015579666,-0.4556167477571603,2.0,2.0,3.0,2.0,1.0,1.0,1.0,1.0])|\n+-----------------------------------------------------------------------------------------------------------------------------------------------------------------------------------------------------------------------+\nonly showing top 3 rows\n\n"
     ]
    }
   ],
   "source": [
    "feature_columns = [\"scaled_numerical_feature_vector\"] + [col + \"_index\" for col in ordinal_encoding_cols]  + [col + \"_onehot\" for col in nominal_encoding_cols] \n",
    "\n",
    "\n",
    "# Initialize VectorAssembler with all feature columns\n",
    "assembler = VectorAssembler(inputCols=feature_columns, outputCol=\"features\")\n",
    "\n",
    "# Transform the data to add the assembled feature column\n",
    "train = assembler.transform(train)\n",
    "test = assembler.transform(test)\n",
    "\n",
    "# Display the resulting DataFrame with the assembled features\n",
    "train.select(\"features\").show(3, truncate=False)"
   ]
  },
  {
   "cell_type": "code",
   "execution_count": 0,
   "metadata": {
    "application/vnd.databricks.v1+cell": {
     "cellMetadata": {
      "byteLimit": 2048000,
      "rowLimit": 10000
     },
     "inputWidgets": {},
     "nuid": "f192283b-3b67-4172-a06b-3d9e502e1656",
     "showTitle": false,
     "tableResultSettingsMap": {},
     "title": ""
    }
   },
   "outputs": [],
   "source": []
  },
  {
   "cell_type": "code",
   "execution_count": 0,
   "metadata": {
    "application/vnd.databricks.v1+cell": {
     "cellMetadata": {
      "byteLimit": 2048000,
      "rowLimit": 10000
     },
     "inputWidgets": {},
     "nuid": "c39a28f3-d7cd-4ef9-9576-9617c78766c6",
     "showTitle": false,
     "tableResultSettingsMap": {},
     "title": ""
    }
   },
   "outputs": [
    {
     "output_type": "stream",
     "name": "stdout",
     "output_type": "stream",
     "text": [
      "Out[14]: ['scaled_numerical_feature_vector',\n 'Work-Life Balance_index',\n 'Job Satisfaction_index',\n 'Performance Rating_index',\n 'Education Level_index',\n 'Job Level_index',\n 'Company Size_index',\n 'Company Reputation_index',\n 'Employee Recognition_index',\n 'Gender_onehot',\n 'Job Role_onehot',\n 'Overtime_onehot',\n 'Marital Status_onehot',\n 'Remote Work_onehot',\n 'Leadership Opportunities_onehot',\n 'Innovation Opportunities_onehot']"
     ]
    }
   ],
   "source": [
    "feature_columns = [\"scaled_numerical_feature_vector\"] + [col + \"_index\" for col in ordinal_encoding_cols]  + [col + \"_onehot\" for col in nominal_encoding_cols]\n",
    "feature_columns"
   ]
  },
  {
   "cell_type": "code",
   "execution_count": 0,
   "metadata": {
    "application/vnd.databricks.v1+cell": {
     "cellMetadata": {
      "byteLimit": 2048000,
      "rowLimit": 10000
     },
     "inputWidgets": {},
     "nuid": "9f279a3d-9a73-4033-a2fa-88d3add06e27",
     "showTitle": false,
     "tableResultSettingsMap": {},
     "title": ""
    }
   },
   "outputs": [
    {
     "output_type": "stream",
     "name": "stdout",
     "output_type": "stream",
     "text": [
      "+-----------+----+----------------+--------------+--------------------+------------------+--------------------+--------------+---------+------------------------+-------------------------------+-----------------------+----------------------+------------------------+---------------------+---------------+------------------+------------------------+--------------------------+------------+--------------+--------------+--------------------+-----------------+------------------------------+------------------------------+-------------+---------------+---------------+---------------------+------------------+-------------------------------+-------------------------------+---------------+--------------------+\n|Employee ID| Age|Years at Company|Monthly Income|Number of Promotions|Distance from Home|Number of Dependents|Company Tenure|Attrition|numerical_feature_vector|scaled_numerical_feature_vector|Work-Life Balance_index|Job Satisfaction_index|Performance Rating_index|Education Level_index|Job Level_index|Company Size_index|Company Reputation_index|Employee Recognition_index|Gender_index|Job Role_index|Overtime_index|Marital Status_index|Remote Work_index|Leadership Opportunities_index|Innovation Opportunities_index|Gender_onehot|Job Role_onehot|Overtime_onehot|Marital Status_onehot|Remote Work_onehot|Leadership Opportunities_onehot|Innovation Opportunities_onehot|Attrition_index|            features|\n+-----------+----+----------------+--------------+--------------------+------------------+--------------------+--------------+---------+------------------------+-------------------------------+-----------------------+----------------------+------------------------+---------------------+---------------+------------------+------------------------+--------------------------+------------+--------------+--------------+--------------------+-----------------+------------------------------+------------------------------+-------------+---------------+---------------+---------------------+------------------+-------------------------------+-------------------------------+---------------+--------------------+\n|          5|38.0|             2.0|         12176|                 0.0|              75.0|                 5.0|          66.0|     Left|    [38.0,2.0,12176.0...|           [-0.0230958173997...|                    1.0|                   1.0|                     2.0|                  0.0|            0.0|               1.0|                     0.0|                       1.0|         1.0|           4.0|           0.0|                 0.0|              0.0|                           0.0|                           0.0|    (1,[],[])|      (4,[],[])|  (1,[0],[1.0])|        (2,[0],[1.0])|     (1,[0],[1.0])|                  (1,[0],[1.0])|                  (1,[0],[1.0])|            1.0|[-0.0230958173997...|\n+-----------+----+----------------+--------------+--------------------+------------------+--------------------+--------------+---------+------------------------+-------------------------------+-----------------------+----------------------+------------------------+---------------------+---------------+------------------+------------------------+--------------------------+------------+--------------+--------------+--------------------+-----------------+------------------------------+------------------------------+-------------+---------------+---------------+---------------------+------------------+-------------------------------+-------------------------------+---------------+--------------------+\nonly showing top 1 row\n\n"
     ]
    }
   ],
   "source": [
    "train_silver = train\n",
    "test_silver = test\n",
    "test_silver.show(1)\n"
   ]
  },
  {
   "cell_type": "code",
   "execution_count": 0,
   "metadata": {
    "application/vnd.databricks.v1+cell": {
     "cellMetadata": {
      "byteLimit": 2048000,
      "rowLimit": 10000
     },
     "inputWidgets": {},
     "nuid": "cd17e970-fa92-46b2-826f-eda6ed05f1a9",
     "showTitle": false,
     "tableResultSettingsMap": {},
     "title": ""
    }
   },
   "outputs": [],
   "source": [
    "train_file_path = \"/FileStore/tables/gold_train.parquet\"\n",
    "test_file_path = \"/FileStore/tables/gold_test.parquet\"\n",
    "\n",
    "\n",
    "train_silver.write.format(\"parquet\") \\\n",
    "    .mode(\"overwrite\") \\\n",
    "    .save(train_file_path)\n",
    "\n",
    "test_silver.write.format(\"parquet\") \\\n",
    "    .mode(\"overwrite\") \\\n",
    "    .save(test_file_path)\n"
   ]
  },
  {
   "cell_type": "code",
   "execution_count": 0,
   "metadata": {
    "application/vnd.databricks.v1+cell": {
     "cellMetadata": {
      "byteLimit": 2048000,
      "rowLimit": 10000
     },
     "inputWidgets": {},
     "nuid": "cc904718-a413-44f2-aa24-86de4fc1f1f1",
     "showTitle": false,
     "tableResultSettingsMap": {},
     "title": ""
    }
   },
   "outputs": [],
   "source": []
  }
 ],
 "metadata": {
  "application/vnd.databricks.v1+notebook": {
   "dashboards": [],
   "environmentMetadata": null,
   "language": "python",
   "notebookMetadata": {
    "pythonIndentUnit": 4
   },
   "notebookName": "(Clone) feature_engineering",
   "widgets": {}
  }
 },
 "nbformat": 4,
 "nbformat_minor": 0
}
